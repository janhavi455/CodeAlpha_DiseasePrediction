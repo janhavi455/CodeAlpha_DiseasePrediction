{
 "cells": [
  {
   "cell_type": "code",
   "execution_count": 10,
   "id": "7e34a8d4-0a20-4168-aa52-7b7f9ae1321e",
   "metadata": {},
   "outputs": [
    {
     "name": "stdout",
     "output_type": "stream",
     "text": [
      "Heart Prediction: 0 (0=No, 1=Yes)\n",
      "Probability of Heart: 0.06\n",
      "\n",
      "Breast Prediction: 0 (0=No, 1=Yes)\n",
      "Probability of Breast: 0.02\n",
      "\n",
      "Diabetes Prediction: 0 (0=No, 1=Yes)\n",
      "Probability of Diabetes: 0.28\n",
      "\n"
     ]
    },
    {
     "data": {
      "text/plain": [
       "{'disease': 'diabetes', 'prediction': 0, 'probability': 0.2778960747814721}"
      ]
     },
     "execution_count": 10,
     "metadata": {},
     "output_type": "execute_result"
    }
   ],
   "source": [
    "# ====== 1️⃣ Imports ======\n",
    "import pandas as pd\n",
    "import joblib\n",
    "\n",
    "# ====== 2️⃣ Generic Prediction Function ======\n",
    "def predict_disease(disease_name, new_patient_data):\n",
    "    \"\"\"\n",
    "    disease_name: \"heart\", \"breast\", or \"diabetes\"\n",
    "    new_patient_data: 2D list [[feat1, feat2, ...]]\n",
    "    \"\"\"\n",
    "    try:\n",
    "        # Load model, scaler, features\n",
    "        model = joblib.load(f\"{disease_name}_model.pkl\")\n",
    "        scaler = joblib.load(f\"{disease_name}_scaler.pkl\")\n",
    "        features = joblib.load(f\"{disease_name}_features.pkl\")\n",
    "        \n",
    "        # Prepare new patient data\n",
    "        new_data = pd.DataFrame(new_patient_data, columns=features)\n",
    "        new_data_scaled = scaler.transform(new_data)\n",
    "        \n",
    "        # Predictions\n",
    "        pred_class = int(model.predict(new_data_scaled)[0])\n",
    "        pred_prob = float(model.predict_proba(new_data_scaled)[0][1])  # probability of disease\n",
    "        \n",
    "        # Print nicely\n",
    "        print(f\"{disease_name.capitalize()} Prediction: {pred_class} (0=No, 1=Yes)\")\n",
    "        print(f\"Probability of {disease_name.capitalize()}: {pred_prob:.2f}\\n\")\n",
    "        \n",
    "        # Return structured result (useful for deployment)\n",
    "        return {\n",
    "            \"disease\": disease_name,\n",
    "            \"prediction\": pred_class,\n",
    "            \"probability\": pred_prob\n",
    "        }\n",
    "    \n",
    "    except FileNotFoundError:\n",
    "        print(f\"❌ Error: Joblib files for '{disease_name}' not found. Did you train & save them?\")\n",
    "    except Exception as e:\n",
    "        print(f\"⚠️ Unexpected Error in {disease_name} prediction:\", str(e))\n",
    "\n",
    "# ====== 3️⃣ Example Inputs ======\n",
    "# Heart Disease\n",
    "heart_input = [[63, 1, 3, 145, 233, 1, 0, 150, 0, 2.3, 0, 0, 1]]\n",
    "\n",
    "# Breast Cancer (replace with actual patient values)\n",
    "breast_input = [[\n",
    "    17.99, 10.38, 122.8, 1001, 0.1184, 0.2776, 0.3001, 0.1471, 0.2419, 0.0787,\n",
    "    1.095, 0.9053, 8.589, 153.4, 0.0064, 0.049, 0.053, 0.015, 0.030, 0.006,\n",
    "    25.38, 17.33, 184.6, 2019, 0.1622, 0.6656, 0.7119, 0.2654, 0.4601, 0.1189\n",
    "]]\n",
    "\n",
    "# Diabetes (replace with actual patient values)\n",
    "diabetes_input = [[6,148,72,35,0,33.6,0.627,50]]\n",
    "\n",
    "# ====== 4️⃣ Make Predictions ======\n",
    "predict_disease(\"heart\", heart_input)\n",
    "predict_disease(\"breast\", breast_input)\n",
    "predict_disease(\"diabetes\", diabetes_input)\n",
    "\n",
    "# ====== 5️⃣ Optional: Interactive Input ======\n",
    "# disease_choice = input(\"Enter disease (heart/breast/diabetes): \").lower()\n",
    "# features = joblib.load(f\"{disease_choice}_features.pkl\")\n",
    "# new_values = [float(input(f\"Enter {f}: \")) for f in features]\n",
    "# predict_disease(disease_choice, [new_values])\n"
   ]
  },
  {
   "cell_type": "code",
   "execution_count": 6,
   "id": "5a82c33a-89b4-496f-aa1e-5116a8291c84",
   "metadata": {},
   "outputs": [],
   "source": [
    "!pip freeze > requirements.txt\n"
   ]
  }
 ],
 "metadata": {
  "kernelspec": {
   "display_name": "Python [conda env:base] *",
   "language": "python",
   "name": "conda-base-py"
  },
  "language_info": {
   "codemirror_mode": {
    "name": "ipython",
    "version": 3
   },
   "file_extension": ".py",
   "mimetype": "text/x-python",
   "name": "python",
   "nbconvert_exporter": "python",
   "pygments_lexer": "ipython3",
   "version": "3.12.3"
  }
 },
 "nbformat": 4,
 "nbformat_minor": 5
}
